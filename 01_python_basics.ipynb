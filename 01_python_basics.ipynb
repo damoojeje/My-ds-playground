{
 "cells": [
  {
   "cell_type": "code",
   "execution_count": 1,
   "id": "8b52bc4e-83af-4d83-9640-98d88bb8de50",
   "metadata": {},
   "outputs": [
    {
     "name": "stdout",
     "output_type": "stream",
     "text": [
      "✅ sensor_data.csv created in your working directory\n"
     ]
    }
   ],
   "source": [
    "import csv\n",
    "import datetime\n",
    "import random\n",
    "\n",
    "# 1) Define a start time\n",
    "start = datetime.datetime(2025, 1, 1)\n",
    "\n",
    "# 2) Open a new CSV for writing\n",
    "with open('sensor_data.csv', 'w', newline='') as f:\n",
    "    writer = csv.writer(f)\n",
    "    writer.writerow(['timestamp', 'temperature', 'vibration'])\n",
    "    \n",
    "    # 3) Write 100 hourly samples\n",
    "    for i in range(100):\n",
    "        ts   = start + datetime.timedelta(hours=i)\n",
    "        temp = round(random.gauss(50, 5), 2)   # around 50°C ±5°\n",
    "        vib  = round(random.gauss(0.5, 0.1), 3) # around 0.5g ±0.1g\n",
    "        writer.writerow([ts.isoformat(), temp, vib])\n",
    "\n",
    "print(\"✅ sensor_data.csv created in your working directory\")\n"
   ]
  },
  {
   "cell_type": "code",
   "execution_count": 2,
   "id": "6cfd134e-374f-49d9-977c-482f3fd1c3f6",
   "metadata": {},
   "outputs": [
    {
     "name": "stdout",
     "output_type": "stream",
     "text": [
      "             timestamp  temperature  vibration\n",
      "0  2025-01-01T00:00:00        54.21      0.624\n",
      "1  2025-01-01T01:00:00        51.81      0.684\n",
      "2  2025-01-01T02:00:00        48.65      0.633\n",
      "3  2025-01-01T03:00:00        43.69      0.417\n",
      "4  2025-01-01T04:00:00        53.28      0.459\n"
     ]
    }
   ],
   "source": [
    "import pandas as pd\n",
    "df = pd.read_csv('sensor_data.csv')\n",
    "print (df.head())\n"
   ]
  },
  {
   "cell_type": "code",
   "execution_count": 3,
   "id": "63f81ca9-a8f3-48b2-a9ae-217f9d5b45f8",
   "metadata": {},
   "outputs": [
    {
     "name": "stdout",
     "output_type": "stream",
     "text": [
      "Downloading winequality-red.csv...\n",
      "✅ Saved to Beyond_Week_1\\winequality-red.csv\n",
      "\n",
      "Downloading iris.data...\n",
      "✅ Saved to Beyond_Week_1\\iris.data\n",
      "\n",
      "Downloading aclImdb_v1.tar.gz...\n",
      "✅ Saved to Beyond_Week_1\\aclImdb_v1.tar.gz\n",
      "\n",
      "Downloading C-MAPSS-data...\n",
      "✅ Saved to Beyond_Week_1\\C-MAPSS-data\n",
      "\n",
      "🎉 All datasets downloaded successfully!\n"
     ]
    }
   ],
   "source": [
    "import os\n",
    "import requests\n",
    "\n",
    "# Define the folder where files will be saved\n",
    "project_folder = \"Beyond_Week_1\"\n",
    "os.makedirs(project_folder, exist_ok=True)  # Create folder if it doesn't exist\n",
    "\n",
    "# List of datasets to download\n",
    "datasets = {\n",
    "    \"winequality-red.csv\": \"https://archive.ics.uci.edu/ml/machine-learning-databases/wine-quality/winequality-red.csv\",\n",
    "    \"iris.data\": \"https://archive.ics.uci.edu/ml/machine-learning-databases/iris/iris.data\",\n",
    "    \"aclImdb_v1.tar.gz\": \"https://ai.stanford.edu/~amaas/data/sentiment/aclImdb_v1.tar.gz\",\n",
    "    \"C-MAPSS-data\": \"https://ti.arc.nasa.gov/tech/dash/pcoe/prognostic-data-repository/\"\n",
    "}\n",
    "\n",
    "# Download function\n",
    "def download_file(filename, url):\n",
    "    print(f\"Downloading {filename}...\")\n",
    "    response = requests.get(url, stream=True)\n",
    "    if response.status_code == 200:\n",
    "        filepath = os.path.join(project_folder, filename)\n",
    "        with open(filepath, \"wb\") as file:\n",
    "            for chunk in response.iter_content(chunk_size=1024):\n",
    "                file.write(chunk)\n",
    "        print(f\"✅ Saved to {filepath}\\n\")\n",
    "    else:\n",
    "        print(f\"❌ Failed to download {filename} (Status Code: {response.status_code})\\n\")\n",
    "\n",
    "# Loop through dataset links and download\n",
    "for filename, url in datasets.items():\n",
    "    download_file(filename, url)\n",
    "\n",
    "print(\"🎉 All datasets downloaded successfully!\")\n"
   ]
  },
  {
   "cell_type": "code",
   "execution_count": null,
   "id": "05cae9d6-1cce-4165-894a-57efe444a999",
   "metadata": {},
   "outputs": [],
   "source": []
  }
 ],
 "metadata": {
  "kernelspec": {
   "display_name": "Python 3 (ipykernel)",
   "language": "python",
   "name": "python3"
  },
  "language_info": {
   "codemirror_mode": {
    "name": "ipython",
    "version": 3
   },
   "file_extension": ".py",
   "mimetype": "text/x-python",
   "name": "python",
   "nbconvert_exporter": "python",
   "pygments_lexer": "ipython3",
   "version": "3.10.9"
  }
 },
 "nbformat": 4,
 "nbformat_minor": 5
}
